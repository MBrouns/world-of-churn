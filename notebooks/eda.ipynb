{
 "cells": [
  {
   "cell_type": "markdown",
   "id": "urban-lindsay",
   "metadata": {},
   "source": [
    "# how much playing time does it take to get from lvl 1 to lvl 60"
   ]
  },
  {
   "cell_type": "code",
   "execution_count": 1,
   "id": "hindu-heater",
   "metadata": {},
   "outputs": [],
   "source": [
    "%load_ext autoreload\n",
    "%autoreload 2"
   ]
  },
  {
   "cell_type": "code",
   "execution_count": 2,
   "id": "sonic-marks",
   "metadata": {},
   "outputs": [],
   "source": [
    "import logging\n",
    "\n",
    "logging.basicConfig(level=logging.DEBUG)"
   ]
  },
  {
   "cell_type": "code",
   "execution_count": 3,
   "id": "dress-finger",
   "metadata": {},
   "outputs": [],
   "source": [
    "import pandas as pd\n",
    "from woc import data, outliers"
   ]
  },
  {
   "cell_type": "code",
   "execution_count": 4,
   "id": "intermediate-letter",
   "metadata": {},
   "outputs": [
    {
     "name": "stderr",
     "output_type": "stream",
     "text": [
      "DEBUG:woc.data:[_load_csv] shape=(100000, 7) time=0:00:00.206799\n",
      "DEBUG:woc.data:[_normalize_colnames] shape=(100000, 7) time=0:00:00.005105\n",
      "DEBUG:woc.data:[_parse_dtypes] shape=(100000, 7) time=0:00:02.619103\n",
      "INFO:woc.data:[load] shape=(100000, 7) time=0:00:02.835622\n",
      "DEBUG:woc.outliers:[_remove_below_min_level] shape=(93864, 7) time=0:00:00.009130\n",
      "INFO:woc.outliers:[remove] shape=(93864, 7) time=0:00:00.009956\n"
     ]
    }
   ],
   "source": [
    "clean_df = (\n",
    "    data.load('../data/wowah_data.csv')\n",
    "    .pipe(outliers.remove, min_lvl=20)\n",
    ")"
   ]
  },
  {
   "cell_type": "code",
   "execution_count": 6,
   "id": "connected-minister",
   "metadata": {},
   "outputs": [
    {
     "data": {
      "text/html": [
       "<div>\n",
       "<style scoped>\n",
       "    .dataframe tbody tr th:only-of-type {\n",
       "        vertical-align: middle;\n",
       "    }\n",
       "\n",
       "    .dataframe tbody tr th {\n",
       "        vertical-align: top;\n",
       "    }\n",
       "\n",
       "    .dataframe thead th {\n",
       "        text-align: right;\n",
       "    }\n",
       "</style>\n",
       "<table border=\"1\" class=\"dataframe\">\n",
       "  <thead>\n",
       "    <tr style=\"text-align: right;\">\n",
       "      <th></th>\n",
       "      <th>char</th>\n",
       "      <th>level</th>\n",
       "      <th>race</th>\n",
       "      <th>charclass</th>\n",
       "      <th>zone</th>\n",
       "      <th>guild</th>\n",
       "      <th>timestamp</th>\n",
       "    </tr>\n",
       "  </thead>\n",
       "  <tbody>\n",
       "    <tr>\n",
       "      <th>3</th>\n",
       "      <td>65490</td>\n",
       "      <td>18</td>\n",
       "      <td>Orc</td>\n",
       "      <td>Hunter</td>\n",
       "      <td>Ghostlands</td>\n",
       "      <td>-1</td>\n",
       "      <td>2008-01-01 00:02:04</td>\n",
       "    </tr>\n",
       "    <tr>\n",
       "      <th>4</th>\n",
       "      <td>2288</td>\n",
       "      <td>60</td>\n",
       "      <td>Orc</td>\n",
       "      <td>Hunter</td>\n",
       "      <td>Hellfire Peninsula</td>\n",
       "      <td>-1</td>\n",
       "      <td>2008-01-01 00:02:09</td>\n",
       "    </tr>\n",
       "    <tr>\n",
       "      <th>5</th>\n",
       "      <td>2289</td>\n",
       "      <td>60</td>\n",
       "      <td>Orc</td>\n",
       "      <td>Hunter</td>\n",
       "      <td>Hellfire Peninsula</td>\n",
       "      <td>-1</td>\n",
       "      <td>2008-01-01 00:02:09</td>\n",
       "    </tr>\n",
       "    <tr>\n",
       "      <th>6</th>\n",
       "      <td>61239</td>\n",
       "      <td>68</td>\n",
       "      <td>Orc</td>\n",
       "      <td>Hunter</td>\n",
       "      <td>Blade's Edge Mountains</td>\n",
       "      <td>243</td>\n",
       "      <td>2008-01-01 00:02:14</td>\n",
       "    </tr>\n",
       "    <tr>\n",
       "      <th>7</th>\n",
       "      <td>59772</td>\n",
       "      <td>69</td>\n",
       "      <td>Orc</td>\n",
       "      <td>Warrior</td>\n",
       "      <td>Shadowmoon Valley</td>\n",
       "      <td>35</td>\n",
       "      <td>2008-01-01 00:02:14</td>\n",
       "    </tr>\n",
       "  </tbody>\n",
       "</table>\n",
       "</div>"
      ],
      "text/plain": [
       "    char  level race charclass                    zone  guild  \\\n",
       "3  65490     18  Orc    Hunter              Ghostlands     -1   \n",
       "4   2288     60  Orc    Hunter      Hellfire Peninsula     -1   \n",
       "5   2289     60  Orc    Hunter      Hellfire Peninsula     -1   \n",
       "6  61239     68  Orc    Hunter  Blade's Edge Mountains    243   \n",
       "7  59772     69  Orc   Warrior       Shadowmoon Valley     35   \n",
       "\n",
       "            timestamp  \n",
       "3 2008-01-01 00:02:04  \n",
       "4 2008-01-01 00:02:09  \n",
       "5 2008-01-01 00:02:09  \n",
       "6 2008-01-01 00:02:14  \n",
       "7 2008-01-01 00:02:14  "
      ]
     },
     "execution_count": 6,
     "metadata": {},
     "output_type": "execute_result"
    }
   ],
   "source": [
    "clean_df.head()"
   ]
  },
  {
   "cell_type": "code",
   "execution_count": 75,
   "id": "antique-affiliation",
   "metadata": {},
   "outputs": [
    {
     "name": "stdout",
     "output_type": "stream",
     "text": [
      "447 ms ± 28.8 ms per loop (mean ± std. dev. of 7 runs, 1 loop each)\n"
     ]
    }
   ],
   "source": [
    "%%timeit\n",
    "clean_df.groupby('char')['level'].apply(lambda s: s.max())"
   ]
  },
  {
   "cell_type": "code",
   "execution_count": 91,
   "id": "hourly-story",
   "metadata": {},
   "outputs": [
    {
     "name": "stdout",
     "output_type": "stream",
     "text": [
      "7 ms ± 304 µs per loop (mean ± std. dev. of 7 runs, 100 loops each)\n"
     ]
    }
   ],
   "source": [
    "%%timeit\n",
    "clean_df.groupby('char')[['level']].max()"
   ]
  },
  {
   "cell_type": "code",
   "execution_count": 84,
   "id": "pacific-twelve",
   "metadata": {},
   "outputs": [
    {
     "name": "stdout",
     "output_type": "stream",
     "text": [
      "7.13 ms ± 238 µs per loop (mean ± std. dev. of 7 runs, 100 loops each)\n"
     ]
    }
   ],
   "source": [
    "%%timeit\n",
    "\n",
    "(\n",
    "    clean_df\n",
    "    .groupby('char')\n",
    "    .agg({\n",
    "        'level': np.max\n",
    "    })\n",
    ")"
   ]
  },
  {
   "cell_type": "code",
   "execution_count": 11,
   "id": "periodic-gospel",
   "metadata": {},
   "outputs": [
    {
     "data": {
      "text/html": [
       "<div>\n",
       "<style scoped>\n",
       "    .dataframe tbody tr th:only-of-type {\n",
       "        vertical-align: middle;\n",
       "    }\n",
       "\n",
       "    .dataframe tbody tr th {\n",
       "        vertical-align: top;\n",
       "    }\n",
       "\n",
       "    .dataframe thead th {\n",
       "        text-align: right;\n",
       "    }\n",
       "</style>\n",
       "<table border=\"1\" class=\"dataframe\">\n",
       "  <thead>\n",
       "    <tr style=\"text-align: right;\">\n",
       "      <th></th>\n",
       "      <th>char</th>\n",
       "      <th>level</th>\n",
       "      <th>race</th>\n",
       "      <th>charclass</th>\n",
       "      <th>zone</th>\n",
       "      <th>guild</th>\n",
       "      <th>timestamp</th>\n",
       "    </tr>\n",
       "  </thead>\n",
       "  <tbody>\n",
       "    <tr>\n",
       "      <th>3</th>\n",
       "      <td>65490</td>\n",
       "      <td>18</td>\n",
       "      <td>Orc</td>\n",
       "      <td>Hunter</td>\n",
       "      <td>Ghostlands</td>\n",
       "      <td>-1</td>\n",
       "      <td>2008-01-01 00:02:04</td>\n",
       "    </tr>\n",
       "    <tr>\n",
       "      <th>4</th>\n",
       "      <td>2288</td>\n",
       "      <td>60</td>\n",
       "      <td>Orc</td>\n",
       "      <td>Hunter</td>\n",
       "      <td>Hellfire Peninsula</td>\n",
       "      <td>-1</td>\n",
       "      <td>2008-01-01 00:02:09</td>\n",
       "    </tr>\n",
       "    <tr>\n",
       "      <th>5</th>\n",
       "      <td>2289</td>\n",
       "      <td>60</td>\n",
       "      <td>Orc</td>\n",
       "      <td>Hunter</td>\n",
       "      <td>Hellfire Peninsula</td>\n",
       "      <td>-1</td>\n",
       "      <td>2008-01-01 00:02:09</td>\n",
       "    </tr>\n",
       "    <tr>\n",
       "      <th>6</th>\n",
       "      <td>61239</td>\n",
       "      <td>68</td>\n",
       "      <td>Orc</td>\n",
       "      <td>Hunter</td>\n",
       "      <td>Blade's Edge Mountains</td>\n",
       "      <td>243</td>\n",
       "      <td>2008-01-01 00:02:14</td>\n",
       "    </tr>\n",
       "    <tr>\n",
       "      <th>7</th>\n",
       "      <td>59772</td>\n",
       "      <td>69</td>\n",
       "      <td>Orc</td>\n",
       "      <td>Warrior</td>\n",
       "      <td>Shadowmoon Valley</td>\n",
       "      <td>35</td>\n",
       "      <td>2008-01-01 00:02:14</td>\n",
       "    </tr>\n",
       "    <tr>\n",
       "      <th>...</th>\n",
       "      <td>...</td>\n",
       "      <td>...</td>\n",
       "      <td>...</td>\n",
       "      <td>...</td>\n",
       "      <td>...</td>\n",
       "      <td>...</td>\n",
       "      <td>...</td>\n",
       "    </tr>\n",
       "    <tr>\n",
       "      <th>99995</th>\n",
       "      <td>58284</td>\n",
       "      <td>66</td>\n",
       "      <td>Blood Elf</td>\n",
       "      <td>Mage</td>\n",
       "      <td>Terokkar Forest</td>\n",
       "      <td>165</td>\n",
       "      <td>2008-01-03 16:25:34</td>\n",
       "    </tr>\n",
       "    <tr>\n",
       "      <th>99996</th>\n",
       "      <td>62379</td>\n",
       "      <td>67</td>\n",
       "      <td>Blood Elf</td>\n",
       "      <td>Rogue</td>\n",
       "      <td>Nagrand</td>\n",
       "      <td>174</td>\n",
       "      <td>2008-01-03 16:25:34</td>\n",
       "    </tr>\n",
       "    <tr>\n",
       "      <th>99997</th>\n",
       "      <td>64813</td>\n",
       "      <td>67</td>\n",
       "      <td>Blood Elf</td>\n",
       "      <td>Priest</td>\n",
       "      <td>Netherstorm</td>\n",
       "      <td>-1</td>\n",
       "      <td>2008-01-03 16:25:34</td>\n",
       "    </tr>\n",
       "    <tr>\n",
       "      <th>99998</th>\n",
       "      <td>59601</td>\n",
       "      <td>68</td>\n",
       "      <td>Blood Elf</td>\n",
       "      <td>Mage</td>\n",
       "      <td>Shadowmoon Valley</td>\n",
       "      <td>216</td>\n",
       "      <td>2008-01-03 16:25:39</td>\n",
       "    </tr>\n",
       "    <tr>\n",
       "      <th>99999</th>\n",
       "      <td>41802</td>\n",
       "      <td>66</td>\n",
       "      <td>Blood Elf</td>\n",
       "      <td>Rogue</td>\n",
       "      <td>Eastern Plaguelands</td>\n",
       "      <td>103</td>\n",
       "      <td>2008-01-03 16:25:39</td>\n",
       "    </tr>\n",
       "  </tbody>\n",
       "</table>\n",
       "<p>93864 rows × 7 columns</p>\n",
       "</div>"
      ],
      "text/plain": [
       "        char  level       race charclass                    zone  guild  \\\n",
       "3      65490     18        Orc    Hunter              Ghostlands     -1   \n",
       "4       2288     60        Orc    Hunter      Hellfire Peninsula     -1   \n",
       "5       2289     60        Orc    Hunter      Hellfire Peninsula     -1   \n",
       "6      61239     68        Orc    Hunter  Blade's Edge Mountains    243   \n",
       "7      59772     69        Orc   Warrior       Shadowmoon Valley     35   \n",
       "...      ...    ...        ...       ...                     ...    ...   \n",
       "99995  58284     66  Blood Elf      Mage         Terokkar Forest    165   \n",
       "99996  62379     67  Blood Elf     Rogue                 Nagrand    174   \n",
       "99997  64813     67  Blood Elf    Priest             Netherstorm     -1   \n",
       "99998  59601     68  Blood Elf      Mage       Shadowmoon Valley    216   \n",
       "99999  41802     66  Blood Elf     Rogue     Eastern Plaguelands    103   \n",
       "\n",
       "                timestamp  \n",
       "3     2008-01-01 00:02:04  \n",
       "4     2008-01-01 00:02:09  \n",
       "5     2008-01-01 00:02:09  \n",
       "6     2008-01-01 00:02:14  \n",
       "7     2008-01-01 00:02:14  \n",
       "...                   ...  \n",
       "99995 2008-01-03 16:25:34  \n",
       "99996 2008-01-03 16:25:34  \n",
       "99997 2008-01-03 16:25:34  \n",
       "99998 2008-01-03 16:25:39  \n",
       "99999 2008-01-03 16:25:39  \n",
       "\n",
       "[93864 rows x 7 columns]"
      ]
     },
     "execution_count": 11,
     "metadata": {},
     "output_type": "execute_result"
    }
   ],
   "source": [
    "import numpy as np\n",
    "chars_above_min_lvl = (\n",
    "    clean_df\n",
    "    .groupby('char')\n",
    "    .agg(\n",
    "        max_lvl=('level', np.max)\n",
    "    )\n",
    "    .loc[lambda d: d['max_lvl'] > 10]\n",
    ")\n",
    "\n",
    "clean_df.loc[lambda d: d['char'].isin(chars_above_min_lvl.index)]"
   ]
  },
  {
   "cell_type": "code",
   "execution_count": 101,
   "id": "interior-authentication",
   "metadata": {},
   "outputs": [
    {
     "data": {
      "text/html": [
       "<div>\n",
       "<style scoped>\n",
       "    .dataframe tbody tr th:only-of-type {\n",
       "        vertical-align: middle;\n",
       "    }\n",
       "\n",
       "    .dataframe tbody tr th {\n",
       "        vertical-align: top;\n",
       "    }\n",
       "\n",
       "    .dataframe thead th {\n",
       "        text-align: right;\n",
       "    }\n",
       "</style>\n",
       "<table border=\"1\" class=\"dataframe\">\n",
       "  <thead>\n",
       "    <tr style=\"text-align: right;\">\n",
       "      <th></th>\n",
       "      <th>max_lvl</th>\n",
       "    </tr>\n",
       "    <tr>\n",
       "      <th>char</th>\n",
       "      <th></th>\n",
       "    </tr>\n",
       "  </thead>\n",
       "  <tbody>\n",
       "    <tr>\n",
       "      <th>9</th>\n",
       "      <td>70</td>\n",
       "    </tr>\n",
       "    <tr>\n",
       "      <th>21</th>\n",
       "      <td>70</td>\n",
       "    </tr>\n",
       "    <tr>\n",
       "      <th>23</th>\n",
       "      <td>70</td>\n",
       "    </tr>\n",
       "    <tr>\n",
       "      <th>28</th>\n",
       "      <td>70</td>\n",
       "    </tr>\n",
       "    <tr>\n",
       "      <th>36</th>\n",
       "      <td>70</td>\n",
       "    </tr>\n",
       "    <tr>\n",
       "      <th>...</th>\n",
       "      <td>...</td>\n",
       "    </tr>\n",
       "    <tr>\n",
       "      <th>65623</th>\n",
       "      <td>11</td>\n",
       "    </tr>\n",
       "    <tr>\n",
       "      <th>65631</th>\n",
       "      <td>30</td>\n",
       "    </tr>\n",
       "    <tr>\n",
       "      <th>65672</th>\n",
       "      <td>70</td>\n",
       "    </tr>\n",
       "    <tr>\n",
       "      <th>65676</th>\n",
       "      <td>22</td>\n",
       "    </tr>\n",
       "    <tr>\n",
       "      <th>65687</th>\n",
       "      <td>70</td>\n",
       "    </tr>\n",
       "  </tbody>\n",
       "</table>\n",
       "<p>2809 rows × 1 columns</p>\n",
       "</div>"
      ],
      "text/plain": [
       "       max_lvl\n",
       "char          \n",
       "9           70\n",
       "21          70\n",
       "23          70\n",
       "28          70\n",
       "36          70\n",
       "...        ...\n",
       "65623       11\n",
       "65631       30\n",
       "65672       70\n",
       "65676       22\n",
       "65687       70\n",
       "\n",
       "[2809 rows x 1 columns]"
      ]
     },
     "execution_count": 101,
     "metadata": {},
     "output_type": "execute_result"
    }
   ],
   "source": [
    "chars_above_min_lvl"
   ]
  },
  {
   "cell_type": "code",
   "execution_count": null,
   "id": "unexpected-denmark",
   "metadata": {},
   "outputs": [],
   "source": [
    "df[df['col'] > ...]"
   ]
  },
  {
   "cell_type": "code",
   "execution_count": 93,
   "id": "precise-disposal",
   "metadata": {},
   "outputs": [
    {
     "data": {
      "text/html": [
       "<div>\n",
       "<style scoped>\n",
       "    .dataframe tbody tr th:only-of-type {\n",
       "        vertical-align: middle;\n",
       "    }\n",
       "\n",
       "    .dataframe tbody tr th {\n",
       "        vertical-align: top;\n",
       "    }\n",
       "\n",
       "    .dataframe thead th {\n",
       "        text-align: right;\n",
       "    }\n",
       "</style>\n",
       "<table border=\"1\" class=\"dataframe\">\n",
       "  <thead>\n",
       "    <tr style=\"text-align: right;\">\n",
       "      <th></th>\n",
       "      <th>max_lvl</th>\n",
       "    </tr>\n",
       "    <tr>\n",
       "      <th>char</th>\n",
       "      <th></th>\n",
       "    </tr>\n",
       "  </thead>\n",
       "  <tbody>\n",
       "    <tr>\n",
       "      <th>9</th>\n",
       "      <td>70</td>\n",
       "    </tr>\n",
       "    <tr>\n",
       "      <th>21</th>\n",
       "      <td>70</td>\n",
       "    </tr>\n",
       "    <tr>\n",
       "      <th>23</th>\n",
       "      <td>70</td>\n",
       "    </tr>\n",
       "    <tr>\n",
       "      <th>28</th>\n",
       "      <td>70</td>\n",
       "    </tr>\n",
       "    <tr>\n",
       "      <th>36</th>\n",
       "      <td>70</td>\n",
       "    </tr>\n",
       "    <tr>\n",
       "      <th>...</th>\n",
       "      <td>...</td>\n",
       "    </tr>\n",
       "    <tr>\n",
       "      <th>65690</th>\n",
       "      <td>1</td>\n",
       "    </tr>\n",
       "    <tr>\n",
       "      <th>65691</th>\n",
       "      <td>1</td>\n",
       "    </tr>\n",
       "    <tr>\n",
       "      <th>65692</th>\n",
       "      <td>1</td>\n",
       "    </tr>\n",
       "    <tr>\n",
       "      <th>65693</th>\n",
       "      <td>1</td>\n",
       "    </tr>\n",
       "    <tr>\n",
       "      <th>65694</th>\n",
       "      <td>2</td>\n",
       "    </tr>\n",
       "  </tbody>\n",
       "</table>\n",
       "<p>3288 rows × 1 columns</p>\n",
       "</div>"
      ],
      "text/plain": [
       "       max_lvl\n",
       "char          \n",
       "9           70\n",
       "21          70\n",
       "23          70\n",
       "28          70\n",
       "36          70\n",
       "...        ...\n",
       "65690        1\n",
       "65691        1\n",
       "65692        1\n",
       "65693        1\n",
       "65694        2\n",
       "\n",
       "[3288 rows x 1 columns]"
      ]
     },
     "execution_count": 93,
     "metadata": {},
     "output_type": "execute_result"
    }
   ],
   "source": [
    "max_lvl_per_char"
   ]
  },
  {
   "cell_type": "code",
   "execution_count": null,
   "id": "criminal-potential",
   "metadata": {},
   "outputs": [],
   "source": [
    "clean_df = parse_dtypes(\n",
    "    normalize_colnames(df)\n",
    ")"
   ]
  },
  {
   "cell_type": "markdown",
   "id": "outstanding-freeware",
   "metadata": {},
   "source": [
    "take vegetables\n",
    " - **season** with *salt*\n",
    " - **roast** them in the *oven*\n",
    " - **serve** them on a *plate*\n",
    " \n",
    "we don't say\n",
    "\n",
    "serve(\n",
    "    roast(\n",
    "        season(\n",
    "            vegetables\n",
    "        )\n",
    "     )\n",
    ")"
   ]
  },
  {
   "cell_type": "code",
   "execution_count": null,
   "id": "surprising-segment",
   "metadata": {},
   "outputs": [],
   "source": []
  },
  {
   "cell_type": "code",
   "execution_count": 67,
   "id": "classified-values",
   "metadata": {},
   "outputs": [
    {
     "data": {
      "text/plain": [
       "char           int64\n",
       " level         int64\n",
       " race         object\n",
       " charclass    object\n",
       " zone         object\n",
       " guild         int64\n",
       " timestamp    object\n",
       "dtype: object"
      ]
     },
     "execution_count": 67,
     "metadata": {},
     "output_type": "execute_result"
    }
   ],
   "source": [
    "df.dtypes"
   ]
  },
  {
   "cell_type": "code",
   "execution_count": 68,
   "id": "talented-gauge",
   "metadata": {},
   "outputs": [
    {
     "data": {
      "text/plain": [
       "char                  int64\n",
       "level                 int64\n",
       "race               category\n",
       "charclass          category\n",
       "zone                 object\n",
       "guild                 int64\n",
       "timestamp    datetime64[ns]\n",
       "dtype: object"
      ]
     },
     "execution_count": 68,
     "metadata": {},
     "output_type": "execute_result"
    }
   ],
   "source": [
    "clean_df.dtypes"
   ]
  },
  {
   "cell_type": "code",
   "execution_count": null,
   "id": "burning-session",
   "metadata": {},
   "outputs": [],
   "source": []
  }
 ],
 "metadata": {
  "kernelspec": {
   "display_name": "Python 3",
   "language": "python",
   "name": "python3"
  },
  "language_info": {
   "codemirror_mode": {
    "name": "ipython",
    "version": 3
   },
   "file_extension": ".py",
   "mimetype": "text/x-python",
   "name": "python",
   "nbconvert_exporter": "python",
   "pygments_lexer": "ipython3",
   "version": "3.8.8"
  }
 },
 "nbformat": 4,
 "nbformat_minor": 5
}
